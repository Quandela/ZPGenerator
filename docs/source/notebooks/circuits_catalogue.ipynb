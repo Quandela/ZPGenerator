{
 "cells": [
  {
   "cell_type": "markdown",
   "source": [
    "# Circuits"
   ],
   "metadata": {
    "collapsed": false
   }
  },
  {
   "cell_type": "markdown",
   "source": [
    "Here we summarise the catalogue circuit components and their underlying physical models."
   ],
   "metadata": {
    "collapsed": false
   }
  },
  {
   "cell_type": "markdown",
   "source": [
    "|           Name           |    Method     |           Circuit Diagram            | Modes |\n",
    "|:------------------------:|:-------------:|:------------------------------------:|------|\n",
    "|      Beam splitter       |     `bs`      | ![](../_static/img/beamsplitter.png) | 2    |\n",
    "|      Phase shifter       |     `ps`      | ![](../_static/img/phaseshifter.png) | 1    |\n",
    "|       Permutation        |    `perm`     |     ![](../_static/img/perm.png)     | 2+   |\n",
    "|          Switch          |   `switch`    |    ![](../_static/img/switch.png)    | 2    |\n",
    "|           Loss           |    `loss`     |     ![](../_static/img/loss.png)     | 1+   |\n",
    "|           Gate           |    `gate`     |     ![](../_static/img/gate.png)     | 1+   |\n",
    "|   Haar random unitary    | `haar_random` |     ![](../_static/img/haar.png)     | 1+   |\n",
    "| Custom scattering matrix |   `custom`    |   ![](../_static/img/custom_u.png)   | 1+   |"
   ],
   "metadata": {
    "collapsed": false
   }
  },
  {
   "cell_type": "markdown",
   "source": [
    "The following sections give more detail on each circuit component."
   ],
   "metadata": {
    "collapsed": false
   }
  },
  {
   "cell_type": "code",
   "execution_count": 32,
   "outputs": [],
   "source": [
    "from zpgenerator import *"
   ],
   "metadata": {
    "collapsed": false,
    "ExecuteTime": {
     "end_time": "2024-02-14T23:13:43.558408Z",
     "start_time": "2024-02-14T23:13:43.330366Z"
    }
   }
  },
  {
   "cell_type": "markdown",
   "source": [
    "## Beam splitter"
   ],
   "metadata": {
    "collapsed": false
   }
  },
  {
   "cell_type": "markdown",
   "source": [
    "The beam splitter implements a unitary transformation on two modes that is defined by the matrix\n",
    "$$\n",
    "\\hat{U}_\\text{bs} = \\begin{pmatrix}\n",
    "\\cos(\\theta) & i\\sin(\\theta)\\\\\n",
    "i\\sin(\\theta) & \\cos(\\theta)\n",
    "\\end{pmatrix}.\n",
    "$$\n",
    "\n",
    "Other variants of the beam splitter, such as the Hadamard unitary, can be implemented by placing the appropriate phase shifters on the input and output ports. Alternatively, the circuit can be constructed using [Perceval's circuit components](https://perceval.quandela.net/docs/components.html) and then converted to ZPGenerator.\n",
    "\n",
    "The parameters of this component are:\n",
    "\n",
    "\\begin{tabular}{c|l|l}\n",
    "\\text{Symbol}&\\text{Description}&\\text{ZPG Parameter}\\\\\\hline\n",
    "$\\theta & \\text{Beam splitter angle}& \\text{`angle'}\\\\\n",
    "\\end{tabular}"
   ],
   "metadata": {
    "collapsed": false
   }
  },
  {
   "cell_type": "markdown",
   "source": [
    "### Examples"
   ],
   "metadata": {
    "collapsed": false
   }
  },
  {
   "cell_type": "markdown",
   "source": [
    "The beam splitter defaults to $\\theta=\\pi/4$, indicating a 50:50 splitting ratio."
   ],
   "metadata": {
    "collapsed": false
   }
  },
  {
   "cell_type": "code",
   "execution_count": 33,
   "outputs": [
    {
     "data": {
      "text/plain": "{'angle': 0.7853981633974483}"
     },
     "execution_count": 33,
     "metadata": {},
     "output_type": "execute_result"
    }
   ],
   "source": [
    "c = Circuit.bs()\n",
    "c.default_parameters"
   ],
   "metadata": {
    "collapsed": false,
    "ExecuteTime": {
     "end_time": "2024-02-14T23:13:43.647968Z",
     "start_time": "2024-02-14T23:13:43.344309Z"
    }
   }
  },
  {
   "cell_type": "markdown",
   "source": [
    "All circuit elements have a time argument, even if they are time independent. They can be evaluated to a matrix in QuTiP Qobj format."
   ],
   "metadata": {
    "collapsed": false
   }
  },
  {
   "cell_type": "code",
   "execution_count": 34,
   "outputs": [
    {
     "data": {
      "text/plain": "Quantum object: dims = [[2], [2]], shape = (2, 2), type = oper, isherm = False\nQobj data =\n[[0.70710678+0.j         0.        +0.70710678j]\n [0.        +0.70710678j 0.70710678+0.j        ]]",
      "text/latex": "Quantum object: dims = [[2], [2]], shape = (2, 2), type = oper, isherm = False $ \\\\ \\left(\\begin{matrix}0.707 & 0.707j\\\\0.707j & 0.707\\\\\\end{matrix}\\right)$"
     },
     "execution_count": 34,
     "metadata": {},
     "output_type": "execute_result"
    }
   ],
   "source": [
    "c.evaluate(t=0)"
   ],
   "metadata": {
    "collapsed": false,
    "ExecuteTime": {
     "end_time": "2024-02-14T23:13:43.648155Z",
     "start_time": "2024-02-14T23:13:43.347406Z"
    }
   }
  },
  {
   "cell_type": "markdown",
   "source": [
    "## Phase shifter"
   ],
   "metadata": {
    "collapsed": false
   }
  },
  {
   "cell_type": "markdown",
   "source": [
    "The phase shifter implements a unitary transformation on one mode that is defined by the matrix\n",
    "$$\n",
    "\\hat{U}_\\text{ps} = \\begin{pmatrix}\n",
    "e^{i\\phi}\n",
    "\\end{pmatrix}.\n",
    "$$\n",
    "\n",
    "This impact is only seen relative to the phase of light in other modes. The parameters of this component are:\n",
    "\n",
    "\\begin{tabular}{c|l|l}\n",
    "\\text{Symbol}&\\text{Description}&\\text{ZPG Parameter}\\\\\\hline\n",
    "$\\phi & \\text{Phase shift}& \\text{`phase'}\\\\\n",
    "\\end{tabular}"
   ],
   "metadata": {
    "collapsed": false
   }
  },
  {
   "cell_type": "markdown",
   "source": [
    "### Examples"
   ],
   "metadata": {
    "collapsed": false
   }
  },
  {
   "cell_type": "markdown",
   "source": [
    "By default, the phase is shifted by $\\pi$, which is equivalent to multiplying the amplitude of the light by -1."
   ],
   "metadata": {
    "collapsed": false
   }
  },
  {
   "cell_type": "code",
   "execution_count": 35,
   "outputs": [
    {
     "data": {
      "text/plain": "{'phase': 3.141592653589793}"
     },
     "execution_count": 35,
     "metadata": {},
     "output_type": "execute_result"
    }
   ],
   "source": [
    "c = Circuit.ps()\n",
    "c.default_parameters"
   ],
   "metadata": {
    "collapsed": false,
    "ExecuteTime": {
     "end_time": "2024-02-14T23:13:43.650437Z",
     "start_time": "2024-02-14T23:13:43.365428Z"
    }
   }
  },
  {
   "cell_type": "code",
   "execution_count": 36,
   "outputs": [
    {
     "data": {
      "text/plain": "Quantum object: dims = [[1], [1]], shape = (1, 1), type = bra\nQobj data =\n[[-1.]]",
      "text/latex": "Quantum object: dims = [[1], [1]], shape = (1, 1), type = bra $ \\\\ \\left(\\begin{matrix}-1.0\\\\\\end{matrix}\\right)$"
     },
     "execution_count": 36,
     "metadata": {},
     "output_type": "execute_result"
    }
   ],
   "source": [
    "c.evaluate(t=0)"
   ],
   "metadata": {
    "collapsed": false,
    "ExecuteTime": {
     "end_time": "2024-02-14T23:13:43.650539Z",
     "start_time": "2024-02-14T23:13:43.368877Z"
    }
   }
  },
  {
   "cell_type": "markdown",
   "source": [
    "## Permutation"
   ],
   "metadata": {
    "collapsed": false
   }
  },
  {
   "cell_type": "markdown",
   "source": [
    "The permutation unitary is used to swap modes without having them interact. This is used to organise the locations of the modes so that they can interact properly with other components. The permutation is provided as a list of unique non-negative integers and the order determines the new ordering of the modes. For two modes, the permutation is simply\n",
    "$$\n",
    "\\hat{U}_\\text{perm} = \\begin{pmatrix}\n",
    "0 & 1\\\\\n",
    "1 & 0\n",
    "\\end{pmatrix}.\n",
    "$$"
   ],
   "metadata": {
    "collapsed": false
   }
  },
  {
   "cell_type": "markdown",
   "source": [
    "### Examples"
   ],
   "metadata": {
    "collapsed": false
   }
  },
  {
   "cell_type": "markdown",
   "source": [
    "This component has no parameters."
   ],
   "metadata": {
    "collapsed": false
   }
  },
  {
   "cell_type": "code",
   "execution_count": 37,
   "outputs": [
    {
     "data": {
      "text/plain": "{}"
     },
     "execution_count": 37,
     "metadata": {},
     "output_type": "execute_result"
    }
   ],
   "source": [
    "c = Circuit.perm()\n",
    "c.default_parameters"
   ],
   "metadata": {
    "collapsed": false,
    "ExecuteTime": {
     "end_time": "2024-02-14T23:13:43.652004Z",
     "start_time": "2024-02-14T23:13:43.380921Z"
    }
   }
  },
  {
   "cell_type": "markdown",
   "source": [
    "By default, it swaps two modes."
   ],
   "metadata": {
    "collapsed": false
   }
  },
  {
   "cell_type": "code",
   "execution_count": 38,
   "outputs": [
    {
     "data": {
      "text/plain": "Quantum object: dims = [[2], [2]], shape = (2, 2), type = oper, isherm = True\nQobj data =\n[[0. 1.]\n [1. 0.]]",
      "text/latex": "Quantum object: dims = [[2], [2]], shape = (2, 2), type = oper, isherm = True $ \\\\ \\left(\\begin{matrix}0.0 & 1.0\\\\1.0 & 0.0\\\\\\end{matrix}\\right)$"
     },
     "execution_count": 38,
     "metadata": {},
     "output_type": "execute_result"
    }
   ],
   "source": [
    "c.evaluate(0)"
   ],
   "metadata": {
    "collapsed": false,
    "ExecuteTime": {
     "end_time": "2024-02-14T23:13:43.665536Z",
     "start_time": "2024-02-14T23:13:43.385176Z"
    }
   }
  },
  {
   "cell_type": "markdown",
   "source": [
    "Providing a permutation as a list of integers, we can configure the reordering."
   ],
   "metadata": {
    "collapsed": false
   }
  },
  {
   "cell_type": "code",
   "execution_count": 39,
   "outputs": [
    {
     "data": {
      "text/plain": "Quantum object: dims = [[5], [5]], shape = (5, 5), type = oper, isherm = False\nQobj data =\n[[0. 1. 0. 0. 0.]\n [1. 0. 0. 0. 0.]\n [0. 0. 0. 0. 1.]\n [0. 0. 1. 0. 0.]\n [0. 0. 0. 1. 0.]]",
      "text/latex": "Quantum object: dims = [[5], [5]], shape = (5, 5), type = oper, isherm = False $ \\\\ \\left(\\begin{matrix}0.0 & 1.0 & 0.0 & 0.0 & 0.0\\\\1.0 & 0.0 & 0.0 & 0.0 & 0.0\\\\0.0 & 0.0 & 0.0 & 0.0 & 1.0\\\\0.0 & 0.0 & 1.0 & 0.0 & 0.0\\\\0.0 & 0.0 & 0.0 & 1.0 & 0.0\\\\\\end{matrix}\\right)$"
     },
     "execution_count": 39,
     "metadata": {},
     "output_type": "execute_result"
    }
   ],
   "source": [
    "c = Circuit.perm([1, 0, 4, 2, 3])\n",
    "c.evaluate(0)"
   ],
   "metadata": {
    "collapsed": false,
    "ExecuteTime": {
     "end_time": "2024-02-14T23:13:43.666832Z",
     "start_time": "2024-02-14T23:13:43.389737Z"
    }
   }
  },
  {
   "cell_type": "markdown",
   "source": [
    "## Switch"
   ],
   "metadata": {
    "collapsed": false
   }
  },
  {
   "cell_type": "markdown",
   "source": [
    "The switch is a time-dynamic component used to actively change the spatial mode of light during its evolution. It is a Mach-Zehnder interferometer composed of beam splitters and a phase shifter. The only difference is that the phase of the phase shifter is controlled in time. The parameters of this component are all user-defined."
   ],
   "metadata": {
    "collapsed": false
   }
  },
  {
   "cell_type": "markdown",
   "source": [
    "### Examples"
   ],
   "metadata": {
    "collapsed": false
   }
  },
  {
   "cell_type": "markdown",
   "source": [
    "The switch can be instantiated with a function that determines the state of the switch over time. A value of 0 indicates the switch is fully off and all the light is transmitted in the same mode it enters, a value of 1 indicates the switch is fully on and the modes are swapped (with an appropriate phase factor). In addition to the function, it is necessary to supply an interval over which the function is applied to the switch and any default parameters needed to evaluate the function."
   ],
   "metadata": {
    "collapsed": false
   }
  },
  {
   "cell_type": "code",
   "execution_count": 40,
   "outputs": [
    {
     "data": {
      "text/plain": "{'start': 0, 'end': 1}"
     },
     "execution_count": 40,
     "metadata": {},
     "output_type": "execute_result"
    }
   ],
   "source": [
    "c = Circuit.switch(function=lambda t, args: (t - args['start'])/args['end'],\n",
    "                   interval=['start', 'end'],\n",
    "                   parameters={'start': 0, 'end': 1})\n",
    "c.default_parameters"
   ],
   "metadata": {
    "collapsed": false,
    "ExecuteTime": {
     "end_time": "2024-02-14T23:13:43.669372Z",
     "start_time": "2024-02-14T23:13:43.407170Z"
    }
   }
  },
  {
   "cell_type": "markdown",
   "source": [
    "By evaluating the circuit we can see that the unitary changes over time."
   ],
   "metadata": {
    "collapsed": false
   }
  },
  {
   "cell_type": "code",
   "execution_count": 41,
   "outputs": [
    {
     "data": {
      "text/plain": "Quantum object: dims = [[2], [2]], shape = (2, 2), type = oper, isherm = True\nQobj data =\n[[1. 0.]\n [0. 1.]]",
      "text/latex": "Quantum object: dims = [[2], [2]], shape = (2, 2), type = oper, isherm = True $ \\\\ \\left(\\begin{matrix}1.0 & 0.0\\\\0.0 & 1.0\\\\\\end{matrix}\\right)$"
     },
     "execution_count": 41,
     "metadata": {},
     "output_type": "execute_result"
    }
   ],
   "source": [
    "c.evaluate(t=0)"
   ],
   "metadata": {
    "collapsed": false,
    "ExecuteTime": {
     "end_time": "2024-02-14T23:13:43.676546Z",
     "start_time": "2024-02-14T23:13:43.412591Z"
    }
   }
  },
  {
   "cell_type": "code",
   "execution_count": 42,
   "outputs": [
    {
     "data": {
      "text/plain": "Quantum object: dims = [[2], [2]], shape = (2, 2), type = oper, isherm = True\nQobj data =\n[[ 0. -1.]\n [-1.  0.]]",
      "text/latex": "Quantum object: dims = [[2], [2]], shape = (2, 2), type = oper, isherm = True $ \\\\ \\left(\\begin{matrix}0.0 & -1.0\\\\-1.0 & 0.0\\\\\\end{matrix}\\right)$"
     },
     "execution_count": 42,
     "metadata": {},
     "output_type": "execute_result"
    }
   ],
   "source": [
    "c.evaluate(t=1)"
   ],
   "metadata": {
    "collapsed": false,
    "ExecuteTime": {
     "end_time": "2024-02-14T23:13:43.676614Z",
     "start_time": "2024-02-14T23:13:43.416755Z"
    }
   }
  },
  {
   "cell_type": "markdown",
   "source": [
    "Do demonstrate its impact, we can split a photon into two spatial modes and compare the intensity of the light as a function of time before and after the switch."
   ],
   "metadata": {
    "collapsed": false
   }
  },
  {
   "cell_type": "code",
   "execution_count": 43,
   "outputs": [
    {
     "data": {
      "text/plain": "<Figure size 640x480 with 1 Axes>",
      "image/png": "[encoded data removed]"
     },
     "metadata": {},
     "output_type": "display_data"
    }
   ],
   "source": [
    "source = Source.fock(1)\n",
    "p = Processor() // source // c\n",
    "source.plot_lifetime(start=0, end=5, label='source')\n",
    "p.plot_lifetime(port=0, start=0, end=5, label='mode 0')\n",
    "p.plot_lifetime(port=1, start=0, end=5, label='mode 1').show()"
   ],
   "metadata": {
    "collapsed": false,
    "ExecuteTime": {
     "end_time": "2024-02-14T23:13:43.754366Z",
     "start_time": "2024-02-14T23:13:43.440194Z"
    }
   }
  },
  {
   "cell_type": "markdown",
   "source": [
    "## Loss"
   ],
   "metadata": {
    "collapsed": false
   }
  },
  {
   "cell_type": "markdown",
   "source": [
    "The loss component implements a non-unitary transformation on one mode that is defined by the matrix\n",
    "$$\n",
    "\\hat{S}_\\text{loss} = \\begin{pmatrix}\n",
    "\\sqrt{\\eta}\n",
    "\\end{pmatrix}.\n",
    "$$\n",
    "This is equivalent to a beam splitter (or linear) loss model where the amplitude of light dampened linearly. That is, a value of $\\eta=1/2$ will halve the average photon number of the light.\n",
    "\n",
    "\\begin{tabular}{c|l|l}\n",
    "\\text{Symbol}&\\text{Description}&\\text{ZPG Parameter}\\\\\\hline\n",
    "$\\eta & \\text{The transmission efficiency}& \\text{`efficiency'}\\\\\n",
    "\\end{tabular}"
   ],
   "metadata": {
    "collapsed": false
   }
  },
  {
   "cell_type": "markdown",
   "source": [
    "### Examples"
   ],
   "metadata": {
    "collapsed": false
   }
  },
  {
   "cell_type": "markdown",
   "source": [
    "By default, the loss component does nothing."
   ],
   "metadata": {
    "collapsed": false
   }
  },
  {
   "cell_type": "code",
   "execution_count": 44,
   "outputs": [
    {
     "data": {
      "text/plain": "{'efficiency': 1}"
     },
     "execution_count": 44,
     "metadata": {},
     "output_type": "execute_result"
    }
   ],
   "source": [
    "c = Circuit.loss()\n",
    "c.default_parameters"
   ],
   "metadata": {
    "collapsed": false,
    "ExecuteTime": {
     "end_time": "2024-02-14T23:13:43.754504Z",
     "start_time": "2024-02-14T23:13:43.725745Z"
    }
   }
  },
  {
   "cell_type": "markdown",
   "source": [
    "By evaluating it, we can verify the underlying model."
   ],
   "metadata": {
    "collapsed": false
   }
  },
  {
   "cell_type": "code",
   "execution_count": 45,
   "outputs": [
    {
     "data": {
      "text/plain": "Quantum object: dims = [[1], [1]], shape = (1, 1), type = bra\nQobj data =\n[[0.70710678]]",
      "text/latex": "Quantum object: dims = [[1], [1]], shape = (1, 1), type = bra $ \\\\ \\left(\\begin{matrix}0.707\\\\\\end{matrix}\\right)$"
     },
     "execution_count": 45,
     "metadata": {},
     "output_type": "execute_result"
    }
   ],
   "source": [
    "c.evaluate(t=0, parameters={'efficiency': 0.5})"
   ],
   "metadata": {
    "collapsed": false,
    "ExecuteTime": {
     "end_time": "2024-02-14T23:13:43.754576Z",
     "start_time": "2024-02-14T23:13:43.734088Z"
    }
   }
  },
  {
   "cell_type": "markdown",
   "source": [
    "Using the 'modes' keyword, we can apply the same loss value to multiple modes simultaneously. We may also specify the default efficiency value when instantiating the object. This can be done through the 'efficiency' keyword or by passing a dictionary using the 'parameters' keyword."
   ],
   "metadata": {
    "collapsed": false
   }
  },
  {
   "cell_type": "code",
   "execution_count": 46,
   "outputs": [
    {
     "data": {
      "text/plain": "Quantum object: dims = [[5], [5]], shape = (5, 5), type = oper, isherm = True\nQobj data =\n[[0.70710678 0.         0.         0.         0.        ]\n [0.         0.70710678 0.         0.         0.        ]\n [0.         0.         0.70710678 0.         0.        ]\n [0.         0.         0.         0.70710678 0.        ]\n [0.         0.         0.         0.         0.70710678]]",
      "text/latex": "Quantum object: dims = [[5], [5]], shape = (5, 5), type = oper, isherm = True $ \\\\ \\left(\\begin{matrix}0.707 & 0.0 & 0.0 & 0.0 & 0.0\\\\0.0 & 0.707 & 0.0 & 0.0 & 0.0\\\\0.0 & 0.0 & 0.707 & 0.0 & 0.0\\\\0.0 & 0.0 & 0.0 & 0.707 & 0.0\\\\0.0 & 0.0 & 0.0 & 0.0 & 0.707\\\\\\end{matrix}\\right)$"
     },
     "execution_count": 46,
     "metadata": {},
     "output_type": "execute_result"
    }
   ],
   "source": [
    "c = Circuit.loss(efficiency=0.5, modes=5)\n",
    "c.evaluate(t=0)"
   ],
   "metadata": {
    "collapsed": false,
    "ExecuteTime": {
     "end_time": "2024-02-14T23:13:43.754657Z",
     "start_time": "2024-02-14T23:13:43.740961Z"
    }
   }
  },
  {
   "cell_type": "markdown",
   "source": [
    "## Gate"
   ],
   "metadata": {
    "collapsed": false
   }
  },
  {
   "cell_type": "markdown",
   "source": [
    "The gate component implements a piece-wise time-independent non-unitary transformation on one mode that is defined by the matrix\n",
    "$$\n",
    "\\hat{S}_\\text{gate}(t) = \\begin{pmatrix}\n",
    "\\sqrt{\\eta(t)}\n",
    "\\end{pmatrix}.\n",
    "$$\n",
    "where $\\eta(t)=1$ for $t$ within a specified interval of time and $\\eta(t)=0$ otherwise.\n",
    "This is equivalent to a switch where mode 1 is ignored and the function is a square pulse Like the switch, all parameters are user-defined."
   ],
   "metadata": {
    "collapsed": false
   }
  },
  {
   "cell_type": "markdown",
   "source": [
    "### Examples"
   ],
   "metadata": {
    "collapsed": false
   }
  },
  {
   "cell_type": "markdown",
   "source": [
    "When instantiating, we can specify parameters directly as strings in the interval list. Similar to the loss component, we can also specify the number of modes that are impacted by the gate."
   ],
   "metadata": {
    "collapsed": false
   }
  },
  {
   "cell_type": "code",
   "execution_count": 47,
   "outputs": [
    {
     "data": {
      "text/plain": "{'start': 0, 'end': 1}"
     },
     "execution_count": 47,
     "metadata": {},
     "output_type": "execute_result"
    }
   ],
   "source": [
    "c = Circuit.gate(interval=['start', 'end'],\n",
    "                 parameters={'start': 0, 'end': 1},\n",
    "                 modes=3)\n",
    "c.default_parameters"
   ],
   "metadata": {
    "collapsed": false,
    "ExecuteTime": {
     "end_time": "2024-02-14T23:13:43.754711Z",
     "start_time": "2024-02-14T23:13:43.747680Z"
    }
   }
  },
  {
   "cell_type": "markdown",
   "source": [
    "The value of the scattering matrix will depend on time."
   ],
   "metadata": {
    "collapsed": false
   }
  },
  {
   "cell_type": "code",
   "execution_count": 48,
   "outputs": [
    {
     "data": {
      "text/plain": "Quantum object: dims = [[3], [3]], shape = (3, 3), type = oper, isherm = True\nQobj data =\n[[0. 0. 0.]\n [0. 0. 0.]\n [0. 0. 0.]]",
      "text/latex": "Quantum object: dims = [[3], [3]], shape = (3, 3), type = oper, isherm = True $ \\\\ \\left(\\begin{matrix}0.0 & 0.0 & 0.0\\\\0.0 & 0.0 & 0.0\\\\0.0 & 0.0 & 0.0\\\\\\end{matrix}\\right)$"
     },
     "execution_count": 48,
     "metadata": {},
     "output_type": "execute_result"
    }
   ],
   "source": [
    "c.evaluate(t=-1)"
   ],
   "metadata": {
    "collapsed": false,
    "ExecuteTime": {
     "end_time": "2024-02-14T23:13:43.769165Z",
     "start_time": "2024-02-14T23:13:43.756615Z"
    }
   }
  },
  {
   "cell_type": "code",
   "execution_count": 49,
   "outputs": [
    {
     "data": {
      "text/plain": "Quantum object: dims = [[3], [3]], shape = (3, 3), type = oper, isherm = True\nQobj data =\n[[1. 0. 0.]\n [0. 1. 0.]\n [0. 0. 1.]]",
      "text/latex": "Quantum object: dims = [[3], [3]], shape = (3, 3), type = oper, isherm = True $ \\\\ \\left(\\begin{matrix}1.0 & 0.0 & 0.0\\\\0.0 & 1.0 & 0.0\\\\0.0 & 0.0 & 1.0\\\\\\end{matrix}\\right)$"
     },
     "execution_count": 49,
     "metadata": {},
     "output_type": "execute_result"
    }
   ],
   "source": [
    "c.evaluate(t=0.5)"
   ],
   "metadata": {
    "collapsed": false,
    "ExecuteTime": {
     "end_time": "2024-02-14T23:13:43.769747Z",
     "start_time": "2024-02-14T23:13:43.764548Z"
    }
   }
  },
  {
   "cell_type": "code",
   "execution_count": 50,
   "outputs": [
    {
     "data": {
      "text/plain": "Quantum object: dims = [[3], [3]], shape = (3, 3), type = oper, isherm = True\nQobj data =\n[[0. 0. 0.]\n [0. 0. 0.]\n [0. 0. 0.]]",
      "text/latex": "Quantum object: dims = [[3], [3]], shape = (3, 3), type = oper, isherm = True $ \\\\ \\left(\\begin{matrix}0.0 & 0.0 & 0.0\\\\0.0 & 0.0 & 0.0\\\\0.0 & 0.0 & 0.0\\\\\\end{matrix}\\right)$"
     },
     "execution_count": 50,
     "metadata": {},
     "output_type": "execute_result"
    }
   ],
   "source": [
    "c.evaluate(t=2)"
   ],
   "metadata": {
    "collapsed": false,
    "ExecuteTime": {
     "end_time": "2024-02-14T23:13:43.788627Z",
     "start_time": "2024-02-14T23:13:43.771887Z"
    }
   }
  },
  {
   "cell_type": "markdown",
   "source": [
    "We can use this to truncate emission from a source, either to model a realistic protocol or to analyse its behaviour."
   ],
   "metadata": {
    "collapsed": false
   }
  },
  {
   "cell_type": "code",
   "execution_count": 51,
   "outputs": [
    {
     "data": {
      "text/plain": "<Figure size 640x480 with 1 Axes>",
      "image/png": "[encoded data removed]"
     },
     "metadata": {},
     "output_type": "display_data"
    }
   ],
   "source": [
    "source = Source.fock(1)\n",
    "p = Processor() // source // c\n",
    "params = {'start': 0.5, 'end': 1.5}\n",
    "source.plot_lifetime(start=0, end=5, label='source', parameters=params)\n",
    "p.plot_lifetime(port=0, start=0, end=5, label='gated source', parameters=params).show()"
   ],
   "metadata": {
    "collapsed": false,
    "ExecuteTime": {
     "end_time": "2024-02-14T23:13:43.944856Z",
     "start_time": "2024-02-14T23:13:43.782139Z"
    }
   }
  },
  {
   "cell_type": "markdown",
   "source": [
    "## Haar random"
   ],
   "metadata": {
    "collapsed": false
   }
  },
  {
   "cell_type": "markdown",
   "source": [
    "The Haar random component is simply a Haar random unitary transformation applied to a specified number of modes. The unitary matrix is generated randomly using the QuTiP function ['rand_unitary_haar'](https://qutip.org/docs/latest/apidoc/functions.html?highlight=haar%20random#qutip.random_objects.rand_unitary_haar). The Haar random component has no parameters."
   ],
   "metadata": {
    "collapsed": false
   }
  },
  {
   "cell_type": "markdown",
   "source": [
    "### Examples"
   ],
   "metadata": {
    "collapsed": false
   }
  },
  {
   "cell_type": "markdown",
   "source": [
    "We can specify the number of modes when creating the object."
   ],
   "metadata": {
    "collapsed": false
   }
  },
  {
   "cell_type": "code",
   "execution_count": 52,
   "outputs": [
    {
     "data": {
      "text/plain": "{}"
     },
     "execution_count": 52,
     "metadata": {},
     "output_type": "execute_result"
    }
   ],
   "source": [
    "c = Circuit.haar_random(modes=5)\n",
    "c.default_parameters"
   ],
   "metadata": {
    "collapsed": false,
    "ExecuteTime": {
     "end_time": "2024-02-14T23:13:43.948099Z",
     "start_time": "2024-02-14T23:13:43.945761Z"
    }
   }
  },
  {
   "cell_type": "markdown",
   "source": [
    "The circuit is not time dependent."
   ],
   "metadata": {
    "collapsed": false
   }
  },
  {
   "cell_type": "code",
   "execution_count": 53,
   "outputs": [
    {
     "data": {
      "text/plain": "False"
     },
     "execution_count": 53,
     "metadata": {},
     "output_type": "execute_result"
    }
   ],
   "source": [
    "c.is_time_dependent()"
   ],
   "metadata": {
    "collapsed": false,
    "ExecuteTime": {
     "end_time": "2024-02-14T23:13:43.952762Z",
     "start_time": "2024-02-14T23:13:43.949313Z"
    }
   }
  },
  {
   "cell_type": "code",
   "execution_count": 54,
   "outputs": [
    {
     "data": {
      "text/plain": "Quantum object: dims = [[5], [5]], shape = (5, 5), type = oper, isherm = False\nQobj data =\n[[ 0.13702859+0.82545822j -0.11795036-0.24177268j  0.25523323-0.03262515j\n  -0.00921306+0.2251175j   0.32138874-0.08493341j]\n [-0.03647366-0.3914758j   0.17007563+0.02242474j  0.39134161+0.00671751j\n   0.36050014+0.10139769j  0.72237264-0.02702445j]\n [-0.00480747+0.22917576j  0.45011604+0.73466783j  0.29492502-0.3114161j\n  -0.06735432-0.00505036j -0.12646949+0.02442731j]\n [-0.14086906+0.23536336j  0.09196971+0.14726323j -0.32272182+0.2343928j\n   0.83608659+0.09780093j -0.16406921+0.0011161j ]\n [-0.1087661 -0.07512364j -0.18442658-0.30282962j  0.48511374-0.44968073j\n   0.30749724+0.03567809j -0.39517152+0.40898817j]]",
      "text/latex": "Quantum object: dims = [[5], [5]], shape = (5, 5), type = oper, isherm = False $ \\\\ \\left(\\begin{matrix}(0.137+0.825j) & (-0.118-0.242j) & (0.255-0.033j) & (-0.009+0.225j) & (0.321-0.085j)\\\\(-0.036-0.391j) & (0.170+0.022j) & (0.391+0.007j) & (0.361+0.101j) & (0.722-0.027j)\\\\(-0.005+0.229j) & (0.450+0.735j) & (0.295-0.311j) & (-0.067-0.005j) & (-0.126+0.024j)\\\\(-0.141+0.235j) & (0.092+0.147j) & (-0.323+0.234j) & (0.836+0.098j) & (-0.164+0.001j)\\\\(-0.109-0.075j) & (-0.184-0.303j) & (0.485-0.450j) & (0.307+0.036j) & (-0.395+0.409j)\\\\\\end{matrix}\\right)$"
     },
     "execution_count": 54,
     "metadata": {},
     "output_type": "execute_result"
    }
   ],
   "source": [
    "c.evaluate(t=0)"
   ],
   "metadata": {
    "collapsed": false,
    "ExecuteTime": {
     "end_time": "2024-02-14T23:13:43.956687Z",
     "start_time": "2024-02-14T23:13:43.954470Z"
    }
   }
  },
  {
   "cell_type": "markdown",
   "source": [
    "## Custom"
   ],
   "metadata": {
    "collapsed": false
   }
  },
  {
   "cell_type": "markdown",
   "source": [
    "To make a custom circuit component, one can use the 'custom' method and specify the desired scattering matrix directly. Note that it doesn't need to be a unitary matrix, but to obtain physically-meaningful results, it should at least be a scattering matrix."
   ],
   "metadata": {
    "collapsed": false
   }
  },
  {
   "cell_type": "code",
   "execution_count": 55,
   "outputs": [
    {
     "data": {
      "text/plain": "Quantum object: dims = [[2], [2]], shape = (2, 2), type = oper, isherm = True\nQobj data =\n[[1.  0. ]\n [0.  0.5]]",
      "text/latex": "Quantum object: dims = [[2], [2]], shape = (2, 2), type = oper, isherm = True $ \\\\ \\left(\\begin{matrix}1.0 & 0.0\\\\0.0 & 0.500\\\\\\end{matrix}\\right)$"
     },
     "execution_count": 55,
     "metadata": {},
     "output_type": "execute_result"
    }
   ],
   "source": [
    "c = Circuit.custom(matrix=[[1, 0], [0, 0.5]])\n",
    "c.evaluate(t=0)"
   ],
   "metadata": {
    "collapsed": false,
    "ExecuteTime": {
     "end_time": "2024-02-14T23:13:43.962057Z",
     "start_time": "2024-02-14T23:13:43.958323Z"
    }
   }
  },
  {
   "cell_type": "markdown",
   "source": [
    "Parameters can be introduced by providing a function that returns a QuTiP Qobj, along with a corresponding dictionary of default parameters."
   ],
   "metadata": {
    "collapsed": false
   }
  },
  {
   "cell_type": "code",
   "execution_count": 56,
   "outputs": [
    {
     "data": {
      "text/plain": "Quantum object: dims = [[2], [2]], shape = (2, 2), type = oper, isherm = False\nQobj data =\n[[ 0.35355339  0.35355339]\n [ 0.56568542 -0.56568542]]",
      "text/latex": "Quantum object: dims = [[2], [2]], shape = (2, 2), type = oper, isherm = False $ \\\\ \\left(\\begin{matrix}0.354 & 0.354\\\\0.566 & -0.566\\\\\\end{matrix}\\right)$"
     },
     "execution_count": 56,
     "metadata": {},
     "output_type": "execute_result"
    }
   ],
   "source": [
    "from numpy import sqrt\n",
    "c = Circuit.custom(matrix=lambda args: Qobj([[args['a'], 0], [0, args['b']]]) * Qobj([[1, 1], [1, -1]]) / sqrt(2),\n",
    "                   parameters={'a': 1, 'b': 1})\n",
    "c.evaluate(t=0, parameters={'a': 0.5, 'b': 0.8})"
   ],
   "metadata": {
    "collapsed": false,
    "ExecuteTime": {
     "end_time": "2024-02-14T23:13:44.001852Z",
     "start_time": "2024-02-14T23:13:43.965338Z"
    }
   }
  },
  {
   "cell_type": "markdown",
   "source": [
    "## Conversion from Perceval"
   ],
   "metadata": {
    "collapsed": false
   }
  },
  {
   "cell_type": "markdown",
   "source": [
    "Perceval provides many tools for building photonic circuits and also has many catalogue circuits built to perform linear-optical gates. These circuits can be converted to ZPGenerator simply through their underlying unitary transformation. This conversion cannot account for any heralding or post-processing steps, nor non-unitary components in Perceval."
   ],
   "metadata": {
    "collapsed": false
   }
  },
  {
   "cell_type": "code",
   "execution_count": 57,
   "outputs": [],
   "source": [
    "from perceval import BS, catalog"
   ],
   "metadata": {
    "collapsed": false,
    "ExecuteTime": {
     "end_time": "2024-02-14T23:13:44.014596Z",
     "start_time": "2024-02-14T23:13:43.969480Z"
    }
   }
  },
  {
   "cell_type": "markdown",
   "source": [
    "### Examples"
   ],
   "metadata": {
    "collapsed": false
   }
  },
  {
   "cell_type": "markdown",
   "source": [
    "We can easily create a Hadamard variation of the beam splitter using the class method of BS in Perceval."
   ],
   "metadata": {
    "collapsed": false
   }
  },
  {
   "cell_type": "code",
   "execution_count": 58,
   "outputs": [
    {
     "data": {
      "text/plain": "Quantum object: dims = [[2], [2]], shape = (2, 2), type = oper, isherm = True\nQobj data =\n[[ 0.70710678  0.70710678]\n [ 0.70710678 -0.70710678]]",
      "text/latex": "Quantum object: dims = [[2], [2]], shape = (2, 2), type = oper, isherm = True $ \\\\ \\left(\\begin{matrix}0.707 & 0.707\\\\0.707 & -0.707\\\\\\end{matrix}\\right)$"
     },
     "execution_count": 58,
     "metadata": {},
     "output_type": "execute_result"
    }
   ],
   "source": [
    "c = Circuit.from_perceval(BS.H())\n",
    "c.evaluate(0)"
   ],
   "metadata": {
    "collapsed": false,
    "ExecuteTime": {
     "end_time": "2024-02-14T23:13:44.024430Z",
     "start_time": "2024-02-14T23:13:43.972306Z"
    }
   }
  },
  {
   "cell_type": "markdown",
   "source": [
    "We can also import complicated circuits such as a 12-mode post-processed Toffoli (CCZ) circuit."
   ],
   "metadata": {
    "collapsed": false
   }
  },
  {
   "cell_type": "code",
   "execution_count": 59,
   "outputs": [
    {
     "data": {
      "text/plain": "Quantum object: dims = [[12], [12]], shape = (12, 12), type = oper, isherm = False\nQobj data =\n[[ 0.50982453+0.j          0.        +0.j          0.        +0.j\n   0.        +0.j          0.        +0.j          0.        +0.j\n   0.        +0.j          0.        +0.j          0.        +0.j\n   0.86027841+0.j          0.        +0.j          0.        +0.j        ]\n [ 0.        +0.j          0.50982453+0.j          0.        +0.j\n   0.32116933+0.55628159j  0.        +0.j          0.        +0.j\n   0.33039371+0.j         -0.16519685-0.28612934j -0.16519685+0.28612934j\n   0.        +0.j          0.        +0.j          0.        +0.j        ]\n [ 0.        +0.j          0.        +0.j          0.50982453+0.j\n   0.        +0.j          0.        +0.j          0.        +0.j\n   0.        +0.j          0.        +0.j          0.        +0.j\n   0.        +0.j          0.86027841+0.j          0.        +0.j        ]\n [ 0.        +0.j          0.        +0.j          0.        +0.j\n   0.50982453+0.j          0.        +0.j          0.32116933+0.55628159j\n  -0.16519685+0.28612934j  0.33039371+0.j         -0.16519685-0.28612934j\n   0.        +0.j          0.        +0.j          0.        +0.j        ]\n [ 0.        +0.j          0.        +0.j          0.        +0.j\n   0.        +0.j          0.50982453+0.j          0.        +0.j\n   0.        +0.j          0.        +0.j          0.        +0.j\n   0.        +0.j          0.        +0.j          0.86027841+0.j        ]\n [ 0.        +0.j          0.32116933+0.55628159j  0.        +0.j\n   0.        +0.j          0.        +0.j          0.50982453+0.j\n  -0.16519685-0.28612934j -0.16519685+0.28612934j  0.33039371+0.j\n   0.        +0.j          0.        +0.j          0.        +0.j        ]\n [ 0.        +0.j          0.33039371+0.j          0.        +0.j\n  -0.16519685-0.28612934j  0.        +0.j         -0.16519685+0.28612934j\n  -0.50982453+0.j          0.        +0.j         -0.32116933+0.55628159j\n   0.        +0.j          0.        +0.j          0.        +0.j        ]\n [ 0.        +0.j         -0.16519685+0.28612934j  0.        +0.j\n   0.33039371+0.j          0.        +0.j         -0.16519685-0.28612934j\n  -0.32116933+0.55628159j -0.50982453+0.j          0.        +0.j\n   0.        +0.j          0.        +0.j          0.        +0.j        ]\n [ 0.        +0.j         -0.16519685-0.28612934j  0.        +0.j\n  -0.16519685+0.28612934j  0.        +0.j          0.33039371+0.j\n   0.        +0.j         -0.32116933+0.55628159j -0.50982453+0.j\n   0.        +0.j          0.        +0.j          0.        +0.j        ]\n [ 0.86027841+0.j          0.        +0.j          0.        +0.j\n   0.        +0.j          0.        +0.j          0.        +0.j\n   0.        +0.j          0.        +0.j          0.        +0.j\n  -0.50982453+0.j          0.        +0.j          0.        +0.j        ]\n [ 0.        +0.j          0.        +0.j          0.86027841+0.j\n   0.        +0.j          0.        +0.j          0.        +0.j\n   0.        +0.j          0.        +0.j          0.        +0.j\n   0.        +0.j         -0.50982453+0.j          0.        +0.j        ]\n [ 0.        +0.j          0.        +0.j          0.        +0.j\n   0.        +0.j          0.86027841+0.j          0.        +0.j\n   0.        +0.j          0.        +0.j          0.        +0.j\n   0.        +0.j          0.        +0.j         -0.50982453+0.j        ]]",
      "text/latex": "Quantum object: dims = [[12], [12]], shape = (12, 12), type = oper, isherm = False $ \\\\ \\left(\\begin{matrix}0.510 & 0.0 & 0.0 & 0.0 & 0.0 & \\cdots & 0.0 & 0.0 & 0.860 & 0.0 & 0.0\\\\0.0 & 0.510 & 0.0 & (0.321+0.556j) & 0.0 & \\cdots & (-0.165-0.286j) & (-0.165+0.286j) & 0.0 & 0.0 & 0.0\\\\0.0 & 0.0 & 0.510 & 0.0 & 0.0 & \\cdots & 0.0 & 0.0 & 0.0 & 0.860 & 0.0\\\\0.0 & 0.0 & 0.0 & 0.510 & 0.0 & \\cdots & 0.330 & (-0.165-0.286j) & 0.0 & 0.0 & 0.0\\\\0.0 & 0.0 & 0.0 & 0.0 & 0.510 & \\cdots & 0.0 & 0.0 & 0.0 & 0.0 & 0.860\\\\\\vdots & \\vdots & \\vdots & \\vdots & \\vdots & \\ddots & \\vdots & \\vdots & \\vdots & \\vdots & \\vdots\\\\0.0 & (-0.165+0.286j) & 0.0 & 0.330 & 0.0 & \\cdots & -0.510 & 0.0 & 0.0 & 0.0 & 0.0\\\\0.0 & (-0.165-0.286j) & 0.0 & (-0.165+0.286j) & 0.0 & \\cdots & (-0.321+0.556j) & -0.510 & 0.0 & 0.0 & 0.0\\\\0.860 & 0.0 & 0.0 & 0.0 & 0.0 & \\cdots & 0.0 & 0.0 & -0.510 & 0.0 & 0.0\\\\0.0 & 0.0 & 0.860 & 0.0 & 0.0 & \\cdots & 0.0 & 0.0 & 0.0 & -0.510 & 0.0\\\\0.0 & 0.0 & 0.0 & 0.0 & 0.860 & \\cdots & 0.0 & 0.0 & 0.0 & 0.0 & -0.510\\\\\\end{matrix}\\right)$"
     },
     "execution_count": 59,
     "metadata": {},
     "output_type": "execute_result"
    }
   ],
   "source": [
    "c = Circuit.from_perceval(catalog['postprocessed ccz'].build_circuit())\n",
    "c.evaluate(0)"
   ],
   "metadata": {
    "collapsed": false,
    "ExecuteTime": {
     "end_time": "2024-02-14T23:13:44.024554Z",
     "start_time": "2024-02-14T23:13:43.985427Z"
    }
   }
  },
  {
   "cell_type": "markdown",
   "source": [],
   "metadata": {
    "collapsed": false
   }
  }
 ],
 "metadata": {
  "kernelspec": {
   "display_name": "Python 3",
   "language": "python",
   "name": "python3"
  },
  "language_info": {
   "codemirror_mode": {
    "name": "ipython",
    "version": 2
   },
   "file_extension": ".py",
   "mimetype": "text/x-python",
   "name": "python",
   "nbconvert_exporter": "python",
   "pygments_lexer": "ipython2",
   "version": "2.7.6"
  }
 },
 "nbformat": 4,
 "nbformat_minor": 0
}
